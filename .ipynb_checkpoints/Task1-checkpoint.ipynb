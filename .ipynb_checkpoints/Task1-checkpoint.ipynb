{
 "cells": [
  {
   "cell_type": "code",
   "execution_count": 1,
   "id": "3d991188-13db-44b0-b4eb-fdaca5479cf8",
   "metadata": {},
   "outputs": [],
   "source": [
    "import pandas as pd\n",
    "from sklearn.preprocessing import StandardScaler, OneHotEncoder\n",
    "from sklearn.cluster import KMeans\n",
    "from scipy.cluster.hierarchy import dendrogram, linkage\n",
    "from sklearn.cluster import AgglomerativeClustering\n",
    "from sklearn.model_selection import train_test_split, cross_val_score\n",
    "from sklearn.decomposition import PCA\n",
    "from sklearn.ensemble import RandomForestClassifier\n",
    "from sklearn.metrics import classification_report, accuracy_score,confusion_matrix, silhouette_score, davies_bouldin_score\n",
    "import matplotlib.pyplot as plt\n",
    "from sklearn.linear_model import LogisticRegression\n",
    "from sklearn.tree import DecisionTreeClassifier\n",
    "import seaborn as sns\n",
    "from sklearn.ensemble import GradientBoostingClassifier\n",
    "from sklearn.model_selection import GridSearchCV"
   ]
  },
  {
   "cell_type": "code",
   "execution_count": 2,
   "id": "7ac6e2e5-5618-4422-b096-e562a9331d06",
   "metadata": {},
   "outputs": [],
   "source": [
    "path =  \"kaggle_Interests_group/kaggle_Interests_group.csv\"\n",
    "dataset = pd.read_csv(path)"
   ]
  },
  {
   "cell_type": "code",
   "execution_count": 3,
   "id": "5e4eae6c-deef-4d8b-8af6-6fa5c0b0ba45",
   "metadata": {},
   "outputs": [
    {
     "data": {
      "text/html": [
       "<div>\n",
       "<style scoped>\n",
       "    .dataframe tbody tr th:only-of-type {\n",
       "        vertical-align: middle;\n",
       "    }\n",
       "\n",
       "    .dataframe tbody tr th {\n",
       "        vertical-align: top;\n",
       "    }\n",
       "\n",
       "    .dataframe thead th {\n",
       "        text-align: right;\n",
       "    }\n",
       "</style>\n",
       "<table border=\"1\" class=\"dataframe\">\n",
       "  <thead>\n",
       "    <tr style=\"text-align: right;\">\n",
       "      <th></th>\n",
       "      <th>group</th>\n",
       "      <th>grand_tot_interests</th>\n",
       "      <th>interest1</th>\n",
       "      <th>interest2</th>\n",
       "      <th>interest3</th>\n",
       "      <th>interest4</th>\n",
       "      <th>interest5</th>\n",
       "      <th>interest6</th>\n",
       "      <th>interest7</th>\n",
       "      <th>interest8</th>\n",
       "      <th>...</th>\n",
       "      <th>interest208</th>\n",
       "      <th>interest209</th>\n",
       "      <th>interest210</th>\n",
       "      <th>interest211</th>\n",
       "      <th>interest212</th>\n",
       "      <th>interest213</th>\n",
       "      <th>interest214</th>\n",
       "      <th>interest215</th>\n",
       "      <th>interest216</th>\n",
       "      <th>interest217</th>\n",
       "    </tr>\n",
       "  </thead>\n",
       "  <tbody>\n",
       "    <tr>\n",
       "      <th>0</th>\n",
       "      <td>C</td>\n",
       "      <td>17</td>\n",
       "      <td>NaN</td>\n",
       "      <td>NaN</td>\n",
       "      <td>NaN</td>\n",
       "      <td>NaN</td>\n",
       "      <td>NaN</td>\n",
       "      <td>NaN</td>\n",
       "      <td>NaN</td>\n",
       "      <td>NaN</td>\n",
       "      <td>...</td>\n",
       "      <td>NaN</td>\n",
       "      <td>NaN</td>\n",
       "      <td>NaN</td>\n",
       "      <td>NaN</td>\n",
       "      <td>NaN</td>\n",
       "      <td>NaN</td>\n",
       "      <td>NaN</td>\n",
       "      <td>NaN</td>\n",
       "      <td>NaN</td>\n",
       "      <td>NaN</td>\n",
       "    </tr>\n",
       "    <tr>\n",
       "      <th>1</th>\n",
       "      <td>C</td>\n",
       "      <td>43</td>\n",
       "      <td>1.0</td>\n",
       "      <td>NaN</td>\n",
       "      <td>NaN</td>\n",
       "      <td>NaN</td>\n",
       "      <td>1.0</td>\n",
       "      <td>NaN</td>\n",
       "      <td>NaN</td>\n",
       "      <td>NaN</td>\n",
       "      <td>...</td>\n",
       "      <td>NaN</td>\n",
       "      <td>NaN</td>\n",
       "      <td>1.0</td>\n",
       "      <td>NaN</td>\n",
       "      <td>NaN</td>\n",
       "      <td>NaN</td>\n",
       "      <td>NaN</td>\n",
       "      <td>1.0</td>\n",
       "      <td>1.0</td>\n",
       "      <td>NaN</td>\n",
       "    </tr>\n",
       "    <tr>\n",
       "      <th>2</th>\n",
       "      <td>C</td>\n",
       "      <td>27</td>\n",
       "      <td>NaN</td>\n",
       "      <td>NaN</td>\n",
       "      <td>NaN</td>\n",
       "      <td>NaN</td>\n",
       "      <td>NaN</td>\n",
       "      <td>NaN</td>\n",
       "      <td>NaN</td>\n",
       "      <td>NaN</td>\n",
       "      <td>...</td>\n",
       "      <td>NaN</td>\n",
       "      <td>NaN</td>\n",
       "      <td>1.0</td>\n",
       "      <td>NaN</td>\n",
       "      <td>NaN</td>\n",
       "      <td>NaN</td>\n",
       "      <td>NaN</td>\n",
       "      <td>1.0</td>\n",
       "      <td>1.0</td>\n",
       "      <td>NaN</td>\n",
       "    </tr>\n",
       "    <tr>\n",
       "      <th>3</th>\n",
       "      <td>C</td>\n",
       "      <td>34</td>\n",
       "      <td>NaN</td>\n",
       "      <td>NaN</td>\n",
       "      <td>NaN</td>\n",
       "      <td>NaN</td>\n",
       "      <td>NaN</td>\n",
       "      <td>NaN</td>\n",
       "      <td>NaN</td>\n",
       "      <td>NaN</td>\n",
       "      <td>...</td>\n",
       "      <td>NaN</td>\n",
       "      <td>NaN</td>\n",
       "      <td>NaN</td>\n",
       "      <td>1.0</td>\n",
       "      <td>NaN</td>\n",
       "      <td>NaN</td>\n",
       "      <td>NaN</td>\n",
       "      <td>1.0</td>\n",
       "      <td>1.0</td>\n",
       "      <td>NaN</td>\n",
       "    </tr>\n",
       "    <tr>\n",
       "      <th>4</th>\n",
       "      <td>C</td>\n",
       "      <td>36</td>\n",
       "      <td>NaN</td>\n",
       "      <td>NaN</td>\n",
       "      <td>NaN</td>\n",
       "      <td>NaN</td>\n",
       "      <td>1.0</td>\n",
       "      <td>NaN</td>\n",
       "      <td>NaN</td>\n",
       "      <td>NaN</td>\n",
       "      <td>...</td>\n",
       "      <td>NaN</td>\n",
       "      <td>NaN</td>\n",
       "      <td>1.0</td>\n",
       "      <td>NaN</td>\n",
       "      <td>NaN</td>\n",
       "      <td>NaN</td>\n",
       "      <td>NaN</td>\n",
       "      <td>1.0</td>\n",
       "      <td>1.0</td>\n",
       "      <td>NaN</td>\n",
       "    </tr>\n",
       "  </tbody>\n",
       "</table>\n",
       "<p>5 rows × 219 columns</p>\n",
       "</div>"
      ],
      "text/plain": [
       "  group  grand_tot_interests  interest1  interest2  interest3  interest4  \\\n",
       "0     C                   17        NaN        NaN        NaN        NaN   \n",
       "1     C                   43        1.0        NaN        NaN        NaN   \n",
       "2     C                   27        NaN        NaN        NaN        NaN   \n",
       "3     C                   34        NaN        NaN        NaN        NaN   \n",
       "4     C                   36        NaN        NaN        NaN        NaN   \n",
       "\n",
       "   interest5  interest6  interest7  interest8  ...  interest208  interest209  \\\n",
       "0        NaN        NaN        NaN        NaN  ...          NaN          NaN   \n",
       "1        1.0        NaN        NaN        NaN  ...          NaN          NaN   \n",
       "2        NaN        NaN        NaN        NaN  ...          NaN          NaN   \n",
       "3        NaN        NaN        NaN        NaN  ...          NaN          NaN   \n",
       "4        1.0        NaN        NaN        NaN  ...          NaN          NaN   \n",
       "\n",
       "   interest210  interest211  interest212  interest213  interest214  \\\n",
       "0          NaN          NaN          NaN          NaN          NaN   \n",
       "1          1.0          NaN          NaN          NaN          NaN   \n",
       "2          1.0          NaN          NaN          NaN          NaN   \n",
       "3          NaN          1.0          NaN          NaN          NaN   \n",
       "4          1.0          NaN          NaN          NaN          NaN   \n",
       "\n",
       "   interest215  interest216  interest217  \n",
       "0          NaN          NaN          NaN  \n",
       "1          1.0          1.0          NaN  \n",
       "2          1.0          1.0          NaN  \n",
       "3          1.0          1.0          NaN  \n",
       "4          1.0          1.0          NaN  \n",
       "\n",
       "[5 rows x 219 columns]"
      ]
     },
     "execution_count": 3,
     "metadata": {},
     "output_type": "execute_result"
    }
   ],
   "source": [
    "dataset.head()"
   ]
  },
  {
   "cell_type": "code",
   "execution_count": 4,
   "id": "0549838b-5047-4648-9707-f8d24ce37883",
   "metadata": {},
   "outputs": [
    {
     "data": {
      "text/plain": [
       "group                     0\n",
       "grand_tot_interests       0\n",
       "interest1              5347\n",
       "interest2              6339\n",
       "interest3              6305\n",
       "                       ... \n",
       "interest213            6338\n",
       "interest214            6268\n",
       "interest215            1397\n",
       "interest216            2282\n",
       "interest217            6193\n",
       "Length: 219, dtype: int64"
      ]
     },
     "execution_count": 4,
     "metadata": {},
     "output_type": "execute_result"
    }
   ],
   "source": [
    "dataset.isnull().sum()"
   ]
  },
  {
   "cell_type": "code",
   "execution_count": 5,
   "id": "2bc30540-d631-43c3-85f5-758bbd93484d",
   "metadata": {},
   "outputs": [
    {
     "data": {
      "text/plain": [
       "group                   object\n",
       "grand_tot_interests      int64\n",
       "interest1              float64\n",
       "interest2              float64\n",
       "interest3              float64\n",
       "                        ...   \n",
       "interest213            float64\n",
       "interest214            float64\n",
       "interest215            float64\n",
       "interest216            float64\n",
       "interest217            float64\n",
       "Length: 219, dtype: object"
      ]
     },
     "execution_count": 5,
     "metadata": {},
     "output_type": "execute_result"
    }
   ],
   "source": [
    "dataset.dtypes"
   ]
  },
  {
   "cell_type": "code",
   "execution_count": 6,
   "id": "ddba873a-b7f7-4aa7-9f78-b3713c8cc2b5",
   "metadata": {},
   "outputs": [],
   "source": [
    "data_filled = dataset.fillna(0)"
   ]
  },
  {
   "cell_type": "code",
   "execution_count": 7,
   "id": "e8e55921-e93f-4a75-afb7-f5f89449279e",
   "metadata": {},
   "outputs": [],
   "source": [
    "# Normalize the interest columns (columns from 'interest1' to 'interest217')\n",
    "interest_columns = data_filled.columns[2:]  # Excluding 'group' and 'grand_tot_interests'\n",
    "scaler = StandardScaler()\n",
    "data_filled[interest_columns] = scaler.fit_transform(data_filled[interest_columns])\n"
   ]
  },
  {
   "cell_type": "code",
   "execution_count": null,
   "id": "e2980a7c-fe72-4377-96a6-b88520454969",
   "metadata": {},
   "outputs": [],
   "source": []
  },
  {
   "cell_type": "markdown",
   "id": "5cc737db-3735-4013-b177-db8af16a8b4f",
   "metadata": {},
   "source": [
    "This literally does not make sense, I;ll probably delete it"
   ]
  },
  {
   "cell_type": "code",
   "execution_count": 8,
   "id": "f3901a44-c99f-40d6-9755-b38c8aadec34",
   "metadata": {},
   "outputs": [],
   "source": [
    "\n",
    "# Combine the encoded 'group' column with the rest of the data\n",
    "X_encoded = pd.concat([data_filled, data_filled.drop(columns=['group', 'grand_tot_interests'])], axis=1)\n",
    "y = data_filled['group']"
   ]
  },
  {
   "cell_type": "code",
   "execution_count": 1,
   "id": "b61ac54e-0374-41fb-b5c5-25953952a39e",
   "metadata": {},
   "outputs": [
    {
     "ename": "NameError",
     "evalue": "name 'PCA' is not defined",
     "output_type": "error",
     "traceback": [
      "\u001b[1;31m---------------------------------------------------------------------------\u001b[0m",
      "\u001b[1;31mNameError\u001b[0m                                 Traceback (most recent call last)",
      "Cell \u001b[1;32mIn[1], line 3\u001b[0m\n\u001b[0;32m      1\u001b[0m \u001b[38;5;66;03m# Applying PCA for dimensionality reduction\u001b[39;00m\n\u001b[0;32m      2\u001b[0m \u001b[38;5;66;03m# https://www.kaggle.com/code/ankandash/pca-k-means-clustering-hierarchical-clustering\u001b[39;00m\n\u001b[1;32m----> 3\u001b[0m pca \u001b[38;5;241m=\u001b[39m \u001b[43mPCA\u001b[49m(n_components\u001b[38;5;241m=\u001b[39m\u001b[38;5;241m10\u001b[39m)  \u001b[38;5;66;03m# Adjust the number of components based on your needs\u001b[39;00m\n\u001b[0;32m      4\u001b[0m X_train_pca \u001b[38;5;241m=\u001b[39m pca\u001b[38;5;241m.\u001b[39mfit_transform(X_train)\n\u001b[0;32m      5\u001b[0m X_test_pca \u001b[38;5;241m=\u001b[39m pca\u001b[38;5;241m.\u001b[39mtransform(X_test)\n",
      "\u001b[1;31mNameError\u001b[0m: name 'PCA' is not defined"
     ]
    }
   ],
   "source": [
    "# Applying PCA for dimensionality reduction\n",
    "# https://www.kaggle.com/code/ankandash/pca-k-means-clustering-hierarchical-clustering\n",
    "pca = PCA(n_components=10)  # Adjust the number of components based on your needs\n",
    "X_train_pca = pca.fit_transform(X_train)\n",
    "X_test_pca = pca.transform(X_test)"
   ]
  },
  {
   "cell_type": "code",
   "execution_count": null,
   "id": "627c6f1a-6d1c-4fed-a249-dfe6f2f91144",
   "metadata": {},
   "outputs": [],
   "source": [
    "# Data splitting: 70% training, 15% evaluation, 15% testing\n",
    "X_train, X_temp, y_train, y_temp = train_test_split(X_encoded, y, test_size=0.3, random_state=42)\n",
    "X_eval, X_test, y_eval, y_test = train_test_split(X_temp, y_temp, test_size=0.5, random_state=42)\n"
   ]
  },
  {
   "cell_type": "code",
   "execution_count": null,
   "id": "6c3cfd9f-0e78-4442-b0c7-c00fa7c2215c",
   "metadata": {},
   "outputs": [],
   "source": [
    "# Check the shapes of the resulting datasets\n",
    "print(f'Training set: {X_train.shape}, {y_train.shape}')\n",
    "print(f'Evaluation set: {X_eval.shape}, {y_eval.shape}')\n",
    "print(f'Testing set: {X_test.shape}, {y_test.shape}')"
   ]
  },
  {
   "cell_type": "code",
   "execution_count": null,
   "id": "88da0edd-1382-48f2-b57f-69ee38599ed7",
   "metadata": {},
   "outputs": [],
   "source": [
    "# Check the preprocessed data\n",
    "print(X_encoded.head())\n"
   ]
  },
  {
   "cell_type": "code",
   "execution_count": null,
   "id": "3f6dfd5b-1ae6-42b8-b0d4-e6b80332e901",
   "metadata": {},
   "outputs": [],
   "source": [
    "# K-means Clustering on Training Set\n",
    "n_clusters = 4\n",
    "kmeans = KMeans(n_clusters=n_clusters, random_state=0)\n",
    "kmeans_labels = kmeans.fit_predict(X_train)\n",
    "X_train['KMeans_Cluster'] = kmeans_labels"
   ]
  },
  {
   "cell_type": "code",
   "execution_count": null,
   "id": "44bf2a05-3244-48ac-a7a4-4bea1cfdb59e",
   "metadata": {},
   "outputs": [],
   "source": [
    "\n",
    "# K-means Clustering on PCA-transformed data\n",
    "n_clusters = 4\n",
    "kmeans = KMeans(n_clusters=n_clusters, random_state=0)\n",
    "kmeans_labels_train = kmeans.fit_predict(X_train_pca)\n",
    "kmeans_labels_test = kmeans.predict(X_test_pca)"
   ]
  },
  {
   "cell_type": "code",
   "execution_count": null,
   "id": "22ae0d26-1f9f-4ebb-803b-b9055edccaca",
   "metadata": {},
   "outputs": [],
   "source": [
    "# PCA for visualization\n",
    "pca = PCA(n_components=4)\n",
    "X_train_pca = pca.fit_transform(X_train)\n"
   ]
  },
  {
   "cell_type": "code",
   "execution_count": null,
   "id": "1d94874b-18f8-4c57-bf4e-c321b07f7395",
   "metadata": {},
   "outputs": [],
   "source": [
    "# K-means Clustering Validation Metrics\n",
    "kmeans_silhouette = silhouette_score(X_train_pca, kmeans_labels_train)\n",
    "kmeans_davies_bouldin = davies_bouldin_score(X_train_pca, kmeans_labels_train)\n",
    "print(f'K-means Silhouette Score: {kmeans_silhouette}')\n",
    "print(f'K-means Davies-Bouldin Index: {kmeans_davies_bouldin}')\n"
   ]
  },
  {
   "cell_type": "code",
   "execution_count": null,
   "id": "a2f9983d-ebd7-49c2-aa3b-cd8f2e96bd6d",
   "metadata": {},
   "outputs": [],
   "source": [
    "# Add KMeans cluster labels to the training and testing set\n",
    "X_train['KMeans_Cluster'] = kmeans_labels_train\n",
    "X_test['KMeans_Cluster'] = kmeans_labels_test"
   ]
  },
  {
   "cell_type": "code",
   "execution_count": null,
   "id": "c129dc4c-0ada-4bab-a678-15930f2938a7",
   "metadata": {},
   "outputs": [],
   "source": [
    "# Hierarchical Clustering on PCA-transformed data\n",
    "hierarchical = AgglomerativeClustering(n_clusters=n_clusters, linkage='ward')\n",
    "hierarchical_labels_train = hierarchical.fit_predict(X_train_pca)\n",
    "hierarchical_labels_test = hierarchical.fit_predict(X_test_pca)"
   ]
  },
  {
   "cell_type": "code",
   "execution_count": null,
   "id": "55b74fc0-62ea-4537-abc6-f39b7105f888",
   "metadata": {},
   "outputs": [],
   "source": [
    "# Hierarchical Clustering Validation Metrics\n",
    "hierarchical_silhouette = silhouette_score(X_train_pca, hierarchical_labels_train)\n",
    "hierarchical_davies_bouldin = davies_bouldin_score(X_train_pca, hierarchical_labels_train)\n",
    "print(f'Hierarchical Clustering Silhouette Score: {hierarchical_silhouette}')\n",
    "print(f'Hierarchical Clustering Davies-Bouldin Index: {hierarchical_davies_bouldin}')\n"
   ]
  },
  {
   "cell_type": "code",
   "execution_count": null,
   "id": "e6e75bc5-c861-4e2c-a3be-d1d594b9ab47",
   "metadata": {},
   "outputs": [],
   "source": [
    "# Add Hierarchical cluster labels to the training and testing set\n",
    "X_train['Hierarchical_Cluster'] = hierarchical_labels_train\n",
    "X_test['Hierarchical_Cluster'] = hierarchical_labels_test\n"
   ]
  },
  {
   "cell_type": "code",
   "execution_count": null,
   "id": "42f96890-2b9a-427e-b80d-ce2f51d1c31e",
   "metadata": {},
   "outputs": [],
   "source": [
    "# Plot the K-means clusters\n",
    "plt.figure(figsize=(10, 6))\n",
    "\n",
    "\n",
    "sns.scatterplot(x=X_train_pca[:,0], y=X_train_pca[:,1], hue=kmeans_labels, palette='viridis')\n",
    "plt.title('K-means Clustering on Training Set (PCA)')\n",
    "plt.xlabel('Principal Component 1')\n",
    "plt.ylabel('Principal Component 2')\n",
    "plt.legend(title='Cluster')\n",
    "plt.show()\n"
   ]
  },
  {
   "cell_type": "code",
   "execution_count": null,
   "id": "ce72be0d-7a9d-467d-9ae8-bf803c200386",
   "metadata": {},
   "outputs": [],
   "source": [
    "# K-means Clustering Validation Metrics\n",
    "kmeans_silhouette = silhouette_score(X_train, kmeans_labels)\n",
    "kmeans_davies_bouldin = davies_bouldin_score(X_train, kmeans_labels)\n",
    "print(f'K-means Silhouette Score: {kmeans_silhouette}')\n",
    "print(f'K-means Davies-Bouldin Index: {kmeans_davies_bouldin}')"
   ]
  },
  {
   "cell_type": "code",
   "execution_count": null,
   "id": "9128998e-6b7d-4f65-97d3-271c99166ca5",
   "metadata": {},
   "outputs": [],
   "source": [
    "# Hierarchical Clustering on Training Set\n",
    "linkage_matrix = linkage(X_train.drop(columns=['KMeans_Cluster']), method='ward')\n"
   ]
  },
  {
   "cell_type": "code",
   "execution_count": null,
   "id": "687683df-62f4-4c84-b137-4a7b135811e4",
   "metadata": {},
   "outputs": [],
   "source": [
    "# Plot the dendrogram\n",
    "plt.figure(figsize=(15, 7))\n",
    "dendrogram(linkage_matrix)\n",
    "plt.title('Hierarchical Clustering Dendrogram on Training Set')\n",
    "plt.xlabel('Sample Index')\n",
    "plt.ylabel('Distance')\n",
    "plt.show()"
   ]
  },
  {
   "cell_type": "code",
   "execution_count": null,
   "id": "2dfa46f8-70a2-46f7-a224-f811b301cef5",
   "metadata": {},
   "outputs": [],
   "source": [
    "# Fit the Agglomerative Clustering model\n",
    "hierarchical = AgglomerativeClustering(n_clusters=n_clusters, metric='euclidean', linkage='ward')\n",
    "hierarchical_labels = hierarchical.fit_predict(X_train.drop(columns=['KMeans_Cluster']))\n",
    "X_train['Hierarchical_Cluster'] = hierarchical_labels\n"
   ]
  },
  {
   "cell_type": "code",
   "execution_count": null,
   "id": "dfce957e-ebe7-40b4-a187-05a175e91f55",
   "metadata": {},
   "outputs": [],
   "source": [
    "# Plot the Hierarchical clusters\n",
    "plt.figure(figsize=(10, 6))\n",
    "sns.scatterplot(x=X_train_pca[:,0], y=X_train_pca[:,1], hue=hierarchical_labels, palette='viridis')\n",
    "plt.title('Hierarchical Clustering on Training Set (PCA)')\n",
    "plt.xlabel('Principal Component 1')\n",
    "plt.ylabel('Principal Component 2')\n",
    "plt.legend(title='Cluster')\n",
    "plt.show()"
   ]
  }
 ],
 "metadata": {
  "kernelspec": {
   "display_name": "Python 3 (ipykernel)",
   "language": "python",
   "name": "python3"
  },
  "language_info": {
   "codemirror_mode": {
    "name": "ipython",
    "version": 3
   },
   "file_extension": ".py",
   "mimetype": "text/x-python",
   "name": "python",
   "nbconvert_exporter": "python",
   "pygments_lexer": "ipython3",
   "version": "3.12.3"
  }
 },
 "nbformat": 4,
 "nbformat_minor": 5
}
